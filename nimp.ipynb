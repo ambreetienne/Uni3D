{
 "cells": [
  {
   "cell_type": "code",
   "execution_count": 2,
   "metadata": {},
   "outputs": [
    {
     "name": "stdout",
     "output_type": "stream",
     "text": [
      "Cloning into 'pointnet2_ops_lib'...\n",
      "fatal: repository 'https://github.com/erikwijmans/Pointnet2_PyTorch/tree/master/pointnet2_ops_lib/' not found\n"
     ]
    }
   ],
   "source": [
    "!git clone https://github.com/erikwijmans/Pointnet2_PyTorch/tree/master/pointnet2_ops_lib"
   ]
  },
  {
   "cell_type": "code",
   "execution_count": 7,
   "metadata": {},
   "outputs": [
    {
     "name": "stdout",
     "output_type": "stream",
     "text": [
      "Collecting pointnet2_ops\n",
      "  Cloning https://github.com/erikwijmans/Pointnet2_PyTorch.git to /private/var/folders/10/f57_h_490d3fd2qgm7cvvcmm0000gn/T/pip-install-n8w0d2mf/pointnet2-ops_88ca883d7afa40339ff0cb6ae830be2d\n",
      "  Running command git clone --filter=blob:none --quiet https://github.com/erikwijmans/Pointnet2_PyTorch.git /private/var/folders/10/f57_h_490d3fd2qgm7cvvcmm0000gn/T/pip-install-n8w0d2mf/pointnet2-ops_88ca883d7afa40339ff0cb6ae830be2d\n",
      "  Resolved https://github.com/erikwijmans/Pointnet2_PyTorch.git to commit b5ceb6d9ca0467ea34beb81023f96ee82228f626\n",
      "  Preparing metadata (setup.py) ... \u001b[?25lerror\n",
      "  \u001b[1;31merror\u001b[0m: \u001b[1msubprocess-exited-with-error\u001b[0m\n",
      "  \n",
      "  \u001b[31m×\u001b[0m \u001b[32mpython setup.py egg_info\u001b[0m did not run successfully.\n",
      "  \u001b[31m│\u001b[0m exit code: \u001b[1;36m1\u001b[0m\n",
      "  \u001b[31m╰─>\u001b[0m \u001b[31m[12 lines of output]\u001b[0m\n",
      "  \u001b[31m   \u001b[0m Traceback (most recent call last):\n",
      "  \u001b[31m   \u001b[0m   File \"<string>\", line 2, in <module>\n",
      "  \u001b[31m   \u001b[0m   File \"<pip-setuptools-caller>\", line 34, in <module>\n",
      "  \u001b[31m   \u001b[0m   File \"/private/var/folders/10/f57_h_490d3fd2qgm7cvvcmm0000gn/T/pip-install-n8w0d2mf/pointnet2-ops_88ca883d7afa40339ff0cb6ae830be2d/pointnet2_ops_lib/setup.py\", line 27, in <module>\n",
      "  \u001b[31m   \u001b[0m     CUDAExtension(\n",
      "  \u001b[31m   \u001b[0m   File \"/Users/ambreetienne/anaconda3/envs/uni3d/lib/python3.8/site-packages/torch/utils/cpp_extension.py\", line 1076, in CUDAExtension\n",
      "  \u001b[31m   \u001b[0m     library_dirs += library_paths(cuda=True)\n",
      "  \u001b[31m   \u001b[0m   File \"/Users/ambreetienne/anaconda3/envs/uni3d/lib/python3.8/site-packages/torch/utils/cpp_extension.py\", line 1203, in library_paths\n",
      "  \u001b[31m   \u001b[0m     if (not os.path.exists(_join_cuda_home(lib_dir)) and\n",
      "  \u001b[31m   \u001b[0m   File \"/Users/ambreetienne/anaconda3/envs/uni3d/lib/python3.8/site-packages/torch/utils/cpp_extension.py\", line 2416, in _join_cuda_home\n",
      "  \u001b[31m   \u001b[0m     raise OSError('CUDA_HOME environment variable is not set. '\n",
      "  \u001b[31m   \u001b[0m OSError: CUDA_HOME environment variable is not set. Please set it to your CUDA install root.\n",
      "  \u001b[31m   \u001b[0m \u001b[31m[end of output]\u001b[0m\n",
      "  \n",
      "  \u001b[1;35mnote\u001b[0m: This error originates from a subprocess, and is likely not a problem with pip.\n",
      "\u001b[?25h\u001b[1;31merror\u001b[0m: \u001b[1mmetadata-generation-failed\u001b[0m\n",
      "\n",
      "\u001b[31m×\u001b[0m Encountered error while generating package metadata.\n",
      "\u001b[31m╰─>\u001b[0m See above for output.\n",
      "\n",
      "\u001b[1;35mnote\u001b[0m: This is an issue with the package mentioned above, not pip.\n",
      "\u001b[1;36mhint\u001b[0m: See above for details.\n",
      "Note: you may need to restart the kernel to use updated packages.\n"
     ]
    }
   ],
   "source": [
    "pip install \"git+https://github.com/erikwijmans/Pointnet2_PyTorch.git#egg=pointnet2_ops&subdirectory=pointnet2_ops_lib\""
   ]
  }
 ],
 "metadata": {
  "kernelspec": {
   "display_name": "uni3d",
   "language": "python",
   "name": "python3"
  },
  "language_info": {
   "codemirror_mode": {
    "name": "ipython",
    "version": 3
   },
   "file_extension": ".py",
   "mimetype": "text/x-python",
   "name": "python",
   "nbconvert_exporter": "python",
   "pygments_lexer": "ipython3",
   "version": "3.8.18"
  },
  "orig_nbformat": 4
 },
 "nbformat": 4,
 "nbformat_minor": 2
}
